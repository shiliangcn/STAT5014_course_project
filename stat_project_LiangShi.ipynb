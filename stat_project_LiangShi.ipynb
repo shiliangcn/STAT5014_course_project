{
 "cells": [
  {
   "cell_type": "code",
   "execution_count": 1,
   "metadata": {},
   "outputs": [],
   "source": [
    "import pandas as pd\n",
    "import numpy as np\n",
    "from sklearn.manifold import TSNE"
   ]
  },
  {
   "cell_type": "code",
   "execution_count": 2,
   "metadata": {},
   "outputs": [],
   "source": [
    "df = pd.read_csv('Data/data.csv', sep = ';')"
   ]
  },
  {
   "cell_type": "code",
   "execution_count": 3,
   "metadata": {},
   "outputs": [
    {
     "data": {
      "text/html": [
       "<div>\n",
       "<style scoped>\n",
       "    .dataframe tbody tr th:only-of-type {\n",
       "        vertical-align: middle;\n",
       "    }\n",
       "\n",
       "    .dataframe tbody tr th {\n",
       "        vertical-align: top;\n",
       "    }\n",
       "\n",
       "    .dataframe thead th {\n",
       "        text-align: right;\n",
       "    }\n",
       "</style>\n",
       "<table border=\"1\" class=\"dataframe\">\n",
       "  <thead>\n",
       "    <tr style=\"text-align: right;\">\n",
       "      <th></th>\n",
       "      <th>Created-At</th>\n",
       "      <th>From-User-Id</th>\n",
       "      <th>To-User-Id</th>\n",
       "      <th>Language</th>\n",
       "      <th>Retweet-Count</th>\n",
       "      <th>PartyName</th>\n",
       "      <th>Id</th>\n",
       "      <th>Score</th>\n",
       "      <th>Scoring String</th>\n",
       "      <th>Negativity</th>\n",
       "      <th>Positivity</th>\n",
       "      <th>Uncovered Tokens</th>\n",
       "      <th>Total Tokens</th>\n",
       "    </tr>\n",
       "  </thead>\n",
       "  <tbody>\n",
       "    <tr>\n",
       "      <th>0</th>\n",
       "      <td>7/1/20 7:44 PM</td>\n",
       "      <td>1223446325758394369</td>\n",
       "      <td>387882597</td>\n",
       "      <td>en</td>\n",
       "      <td>0.0</td>\n",
       "      <td>BothParty</td>\n",
       "      <td>1278368973948694528</td>\n",
       "      <td>0.102564</td>\n",
       "      <td>yep (0.31)  torturing (-0.77)  care (0.56)</td>\n",
       "      <td>0.769231</td>\n",
       "      <td>0.871795</td>\n",
       "      <td>21</td>\n",
       "      <td>24</td>\n",
       "    </tr>\n",
       "    <tr>\n",
       "      <th>1</th>\n",
       "      <td>7/1/20 7:44 PM</td>\n",
       "      <td>1001407960252342273</td>\n",
       "      <td>-1</td>\n",
       "      <td>en</td>\n",
       "      <td>178.0</td>\n",
       "      <td>Republicans</td>\n",
       "      <td>1278368973923528704</td>\n",
       "      <td>-0.589744</td>\n",
       "      <td>ugly (-0.59)</td>\n",
       "      <td>0.589744</td>\n",
       "      <td>0.000000</td>\n",
       "      <td>22</td>\n",
       "      <td>23</td>\n",
       "    </tr>\n",
       "    <tr>\n",
       "      <th>2</th>\n",
       "      <td>7/1/20 7:44 PM</td>\n",
       "      <td>1178522693840392195</td>\n",
       "      <td>-1</td>\n",
       "      <td>en</td>\n",
       "      <td>2.0</td>\n",
       "      <td>Democrats</td>\n",
       "      <td>1278368973910937600</td>\n",
       "      <td>0.692308</td>\n",
       "      <td>okay (0.23)  lol (0.46)</td>\n",
       "      <td>0.000000</td>\n",
       "      <td>0.692308</td>\n",
       "      <td>17</td>\n",
       "      <td>19</td>\n",
       "    </tr>\n",
       "    <tr>\n",
       "      <th>3</th>\n",
       "      <td>7/1/20 7:44 PM</td>\n",
       "      <td>64267482</td>\n",
       "      <td>65497475</td>\n",
       "      <td>en</td>\n",
       "      <td>0.0</td>\n",
       "      <td>Republicans</td>\n",
       "      <td>1278368973893951489</td>\n",
       "      <td>-1.461538</td>\n",
       "      <td>damage (-0.56)  incompetent (-0.54)  resign (-...</td>\n",
       "      <td>1.461538</td>\n",
       "      <td>0.000000</td>\n",
       "      <td>30</td>\n",
       "      <td>33</td>\n",
       "    </tr>\n",
       "    <tr>\n",
       "      <th>4</th>\n",
       "      <td>7/1/20 7:44 PM</td>\n",
       "      <td>1068507190103699456</td>\n",
       "      <td>-1</td>\n",
       "      <td>en</td>\n",
       "      <td>28.0</td>\n",
       "      <td>Republicans</td>\n",
       "      <td>1278368973881511936</td>\n",
       "      <td>0.025641</td>\n",
       "      <td>clean (0.44)  threat (-0.62)  admit (0.21)</td>\n",
       "      <td>0.615385</td>\n",
       "      <td>0.641026</td>\n",
       "      <td>28</td>\n",
       "      <td>31</td>\n",
       "    </tr>\n",
       "    <tr>\n",
       "      <th>...</th>\n",
       "      <td>...</td>\n",
       "      <td>...</td>\n",
       "      <td>...</td>\n",
       "      <td>...</td>\n",
       "      <td>...</td>\n",
       "      <td>...</td>\n",
       "      <td>...</td>\n",
       "      <td>...</td>\n",
       "      <td>...</td>\n",
       "      <td>...</td>\n",
       "      <td>...</td>\n",
       "      <td>...</td>\n",
       "      <td>...</td>\n",
       "    </tr>\n",
       "    <tr>\n",
       "      <th>24201649</th>\n",
       "      <td>11/12/20 5:47 PM</td>\n",
       "      <td>386513005</td>\n",
       "      <td>-1</td>\n",
       "      <td>en</td>\n",
       "      <td>464.0</td>\n",
       "      <td>Neither</td>\n",
       "      <td>1326899546262220802</td>\n",
       "      <td>0.435897</td>\n",
       "      <td>damn (-0.44)  help (0.44)  help (0.44)</td>\n",
       "      <td>0.435897</td>\n",
       "      <td>0.871795</td>\n",
       "      <td>23</td>\n",
       "      <td>26</td>\n",
       "    </tr>\n",
       "    <tr>\n",
       "      <th>24201650</th>\n",
       "      <td>11/12/20 5:47 PM</td>\n",
       "      <td>3421791370</td>\n",
       "      <td>195725305</td>\n",
       "      <td>en</td>\n",
       "      <td>0.0</td>\n",
       "      <td>Republicans</td>\n",
       "      <td>1326899546232942592</td>\n",
       "      <td>-0.179487</td>\n",
       "      <td>seriously (-0.18)</td>\n",
       "      <td>0.179487</td>\n",
       "      <td>0.000000</td>\n",
       "      <td>34</td>\n",
       "      <td>35</td>\n",
       "    </tr>\n",
       "    <tr>\n",
       "      <th>24201651</th>\n",
       "      <td>11/12/20 5:47 PM</td>\n",
       "      <td>1166761314</td>\n",
       "      <td>-1</td>\n",
       "      <td>en</td>\n",
       "      <td>23097.0</td>\n",
       "      <td>Republicans</td>\n",
       "      <td>1326899546186772481</td>\n",
       "      <td>1.076923</td>\n",
       "      <td>easily (0.36)  win (0.72)</td>\n",
       "      <td>0.000000</td>\n",
       "      <td>1.076923</td>\n",
       "      <td>28</td>\n",
       "      <td>30</td>\n",
       "    </tr>\n",
       "    <tr>\n",
       "      <th>24201652</th>\n",
       "      <td>11/12/20 5:47 PM</td>\n",
       "      <td>930244920</td>\n",
       "      <td>25073877</td>\n",
       "      <td>en</td>\n",
       "      <td>0.0</td>\n",
       "      <td>Republicans</td>\n",
       "      <td>1326899546169937924</td>\n",
       "      <td>0.282051</td>\n",
       "      <td>god (0.28)</td>\n",
       "      <td>0.000000</td>\n",
       "      <td>0.282051</td>\n",
       "      <td>11</td>\n",
       "      <td>12</td>\n",
       "    </tr>\n",
       "    <tr>\n",
       "      <th>24201653</th>\n",
       "      <td>11/12/20 5:47 PM</td>\n",
       "      <td>522420024</td>\n",
       "      <td>1166069567468310529</td>\n",
       "      <td>en</td>\n",
       "      <td>0.0</td>\n",
       "      <td>Republicans</td>\n",
       "      <td>1326899546115497995</td>\n",
       "      <td>-1.025641</td>\n",
       "      <td>no (-0.31)  fraud (-0.72)</td>\n",
       "      <td>1.025641</td>\n",
       "      <td>0.000000</td>\n",
       "      <td>27</td>\n",
       "      <td>29</td>\n",
       "    </tr>\n",
       "  </tbody>\n",
       "</table>\n",
       "<p>24201654 rows × 13 columns</p>\n",
       "</div>"
      ],
      "text/plain": [
       "                Created-At         From-User-Id           To-User-Id Language  \\\n",
       "0           7/1/20 7:44 PM  1223446325758394369            387882597       en   \n",
       "1           7/1/20 7:44 PM  1001407960252342273                   -1       en   \n",
       "2           7/1/20 7:44 PM  1178522693840392195                   -1       en   \n",
       "3           7/1/20 7:44 PM             64267482             65497475       en   \n",
       "4           7/1/20 7:44 PM  1068507190103699456                   -1       en   \n",
       "...                    ...                  ...                  ...      ...   \n",
       "24201649  11/12/20 5:47 PM            386513005                   -1       en   \n",
       "24201650  11/12/20 5:47 PM           3421791370            195725305       en   \n",
       "24201651  11/12/20 5:47 PM           1166761314                   -1       en   \n",
       "24201652  11/12/20 5:47 PM            930244920             25073877       en   \n",
       "24201653  11/12/20 5:47 PM            522420024  1166069567468310529       en   \n",
       "\n",
       "          Retweet-Count    PartyName                   Id     Score  \\\n",
       "0                   0.0    BothParty  1278368973948694528  0.102564   \n",
       "1                 178.0  Republicans  1278368973923528704 -0.589744   \n",
       "2                   2.0    Democrats  1278368973910937600  0.692308   \n",
       "3                   0.0  Republicans  1278368973893951489 -1.461538   \n",
       "4                  28.0  Republicans  1278368973881511936  0.025641   \n",
       "...                 ...          ...                  ...       ...   \n",
       "24201649          464.0      Neither  1326899546262220802  0.435897   \n",
       "24201650            0.0  Republicans  1326899546232942592 -0.179487   \n",
       "24201651        23097.0  Republicans  1326899546186772481  1.076923   \n",
       "24201652            0.0  Republicans  1326899546169937924  0.282051   \n",
       "24201653            0.0  Republicans  1326899546115497995 -1.025641   \n",
       "\n",
       "                                             Scoring String  Negativity  \\\n",
       "0                yep (0.31)  torturing (-0.77)  care (0.56)    0.769231   \n",
       "1                                              ugly (-0.59)    0.589744   \n",
       "2                                   okay (0.23)  lol (0.46)    0.000000   \n",
       "3         damage (-0.56)  incompetent (-0.54)  resign (-...    1.461538   \n",
       "4                clean (0.44)  threat (-0.62)  admit (0.21)    0.615385   \n",
       "...                                                     ...         ...   \n",
       "24201649             damn (-0.44)  help (0.44)  help (0.44)    0.435897   \n",
       "24201650                                  seriously (-0.18)    0.179487   \n",
       "24201651                          easily (0.36)  win (0.72)    0.000000   \n",
       "24201652                                         god (0.28)    0.000000   \n",
       "24201653                          no (-0.31)  fraud (-0.72)    1.025641   \n",
       "\n",
       "          Positivity  Uncovered Tokens  Total Tokens  \n",
       "0           0.871795                21            24  \n",
       "1           0.000000                22            23  \n",
       "2           0.692308                17            19  \n",
       "3           0.000000                30            33  \n",
       "4           0.641026                28            31  \n",
       "...              ...               ...           ...  \n",
       "24201649    0.871795                23            26  \n",
       "24201650    0.000000                34            35  \n",
       "24201651    1.076923                28            30  \n",
       "24201652    0.282051                11            12  \n",
       "24201653    0.000000                27            29  \n",
       "\n",
       "[24201654 rows x 13 columns]"
      ]
     },
     "execution_count": 3,
     "metadata": {},
     "output_type": "execute_result"
    }
   ],
   "source": [
    "df"
   ]
  },
  {
   "cell_type": "code",
   "execution_count": 4,
   "metadata": {},
   "outputs": [],
   "source": [
    "df[\"cover_ratio\"] =  1 - df[\"Uncovered Tokens\"] / df[\"Total Tokens\"]"
   ]
  },
  {
   "cell_type": "code",
   "execution_count": 5,
   "metadata": {},
   "outputs": [
    {
     "data": {
      "text/plain": [
       "<matplotlib.axes._subplots.AxesSubplot at 0x7f64733a38d0>"
      ]
     },
     "execution_count": 5,
     "metadata": {},
     "output_type": "execute_result"
    },
    {
     "data": {
      "image/png": "[encoded data removed]",
      "text/plain": [
       "<Figure size 432x288 with 1 Axes>"
      ]
     },
     "metadata": {
      "needs_background": "light"
     },
     "output_type": "display_data"
    }
   ],
   "source": [
    "df.PartyName.hist()"
   ]
  },
  {
   "cell_type": "code",
   "execution_count": 6,
   "metadata": {},
   "outputs": [
    {
     "data": {
      "text/plain": [
       "24201654"
      ]
     },
     "execution_count": 6,
     "metadata": {},
     "output_type": "execute_result"
    }
   ],
   "source": [
    "len(df)"
   ]
  },
  {
   "cell_type": "code",
   "execution_count": 7,
   "metadata": {},
   "outputs": [
    {
     "data": {
      "text/plain": [
       "<matplotlib.axes._subplots.AxesSubplot at 0x7f64733dc850>"
      ]
     },
     "execution_count": 7,
     "metadata": {},
     "output_type": "execute_result"
    },
    {
     "data": {
      "image/png": "[encoded data removed]",
      "text/plain": [
       "<Figure size 432x288 with 1 Axes>"
      ]
     },
     "metadata": {
      "needs_background": "light"
     },
     "output_type": "display_data"
    }
   ],
   "source": [
    "df[df.PartyName == \"Republicans\"].Score.hist(bins=100)"
   ]
  },
  {
   "cell_type": "code",
   "execution_count": 8,
   "metadata": {},
   "outputs": [
    {
     "data": {
      "text/plain": [
       "<matplotlib.axes._subplots.AxesSubplot at 0x7f6472637250>"
      ]
     },
     "execution_count": 8,
     "metadata": {},
     "output_type": "execute_result"
    },
    {
     "data": {
      "image/png": "[encoded data removed]",
      "text/plain": [
       "<Figure size 432x288 with 1 Axes>"
      ]
     },
     "metadata": {
      "needs_background": "light"
     },
     "output_type": "display_data"
    }
   ],
   "source": [
    "df[df.PartyName == \"Democrats\"].Score.hist(bins=100)"
   ]
  },
  {
   "cell_type": "code",
   "execution_count": 9,
   "metadata": {},
   "outputs": [
    {
     "data": {
      "text/plain": [
       "<matplotlib.axes._subplots.AxesSubplot at 0x7f64724ab610>"
      ]
     },
     "execution_count": 9,
     "metadata": {},
     "output_type": "execute_result"
    },
    {
     "data": {
      "image/png": "[encoded data removed]",
      "text/plain": [
       "<Figure size 432x288 with 1 Axes>"
      ]
     },
     "metadata": {
      "needs_background": "light"
     },
     "output_type": "display_data"
    }
   ],
   "source": [
    "df[df.PartyName == \"BothParty\"].Score.hist(bins=100)"
   ]
  },
  {
   "cell_type": "code",
   "execution_count": 10,
   "metadata": {},
   "outputs": [
    {
     "data": {
      "text/plain": [
       "<matplotlib.axes._subplots.AxesSubplot at 0x7f64722ddd90>"
      ]
     },
     "execution_count": 10,
     "metadata": {},
     "output_type": "execute_result"
    },
    {
     "data": {
      "image/png": "[encoded data removed]",
      "text/plain": [
       "<Figure size 432x288 with 1 Axes>"
      ]
     },
     "metadata": {
      "needs_background": "light"
     },
     "output_type": "display_data"
    }
   ],
   "source": [
    "df[df.PartyName == \"Neither\"].Score.hist(bins=100)"
   ]
  },
  {
   "cell_type": "code",
   "execution_count": 11,
   "metadata": {},
   "outputs": [
    {
     "data": {
      "text/plain": [
       "<matplotlib.axes._subplots.AxesSubplot at 0x7f647216bcd0>"
      ]
     },
     "execution_count": 11,
     "metadata": {},
     "output_type": "execute_result"
    },
    {
     "data": {
      "image/png": "[encoded data removed]",
      "text/plain": [
       "<Figure size 432x288 with 1 Axes>"
      ]
     },
     "metadata": {
      "needs_background": "light"
     },
     "output_type": "display_data"
    }
   ],
   "source": [
    "df[\"Retweet-Count\"].hist(bins=100)"
   ]
  },
  {
   "cell_type": "code",
   "execution_count": 12,
   "metadata": {},
   "outputs": [
    {
     "data": {
      "text/plain": [
       "<matplotlib.axes._subplots.AxesSubplot at 0x7f6472036d90>"
      ]
     },
     "execution_count": 12,
     "metadata": {},
     "output_type": "execute_result"
    },
    {
     "data": {
      "image/png": "[encoded data removed]",
      "text/plain": [
       "<Figure size 432x288 with 1 Axes>"
      ]
     },
     "metadata": {
      "needs_background": "light"
     },
     "output_type": "display_data"
    }
   ],
   "source": [
    "df.cover_ratio.hist(bins = 30)"
   ]
  },
  {
   "cell_type": "code",
   "execution_count": 13,
   "metadata": {},
   "outputs": [
    {
     "name": "stderr",
     "output_type": "stream",
     "text": [
      "Using TensorFlow backend.\n"
     ]
    }
   ],
   "source": [
    "from keras.models import Sequential\n",
    "from keras.layers import Dense, Activation ,Dropout , Flatten , Conv1D ,MaxPooling1D,AveragePooling1D\n",
    "from keras.layers.recurrent import LSTM,GRU\n",
    "from keras import layers\n",
    "from keras import losses\n",
    "import keras\n",
    "from sklearn.model_selection import train_test_split"
   ]
  },
  {
   "cell_type": "code",
   "execution_count": 14,
   "metadata": {},
   "outputs": [],
   "source": [
    "df_R = df[df.PartyName == \"Republicans\"]\n",
    "df_D = df[df.PartyName == \"Democrats\"]\n",
    "df_bin = pd.concat([df_R, df_D])"
   ]
  },
  {
   "cell_type": "code",
   "execution_count": 15,
   "metadata": {},
   "outputs": [],
   "source": [
    "feature = df_bin[['Retweet-Count', 'Score', 'Negativity', 'Positivity', 'Uncovered Tokens', 'Total Tokens']]"
   ]
  },
  {
   "cell_type": "code",
   "execution_count": 16,
   "metadata": {},
   "outputs": [
    {
     "name": "stderr",
     "output_type": "stream",
     "text": [
      "/home/lshi/anaconda3/envs/python3_7/lib/python3.7/site-packages/ipykernel_launcher.py:2: SettingWithCopyWarning: \n",
      "A value is trying to be set on a copy of a slice from a DataFrame\n",
      "\n",
      "See the caveats in the documentation: http://pandas.pydata.org/pandas-docs/stable/user_guide/indexing.html#returning-a-view-versus-a-copy\n",
      "  \n",
      "/home/lshi/anaconda3/envs/python3_7/lib/python3.7/site-packages/ipykernel_launcher.py:3: SettingWithCopyWarning: \n",
      "A value is trying to be set on a copy of a slice from a DataFrame\n",
      "\n",
      "See the caveats in the documentation: http://pandas.pydata.org/pandas-docs/stable/user_guide/indexing.html#returning-a-view-versus-a-copy\n",
      "  This is separate from the ipykernel package so we can avoid doing imports until\n"
     ]
    }
   ],
   "source": [
    "label = df_bin['PartyName']\n",
    "label[label == 'Republicans'] = 0\n",
    "label[label == 'Democrats'] = 1\n",
    "label = label.values\n",
    "label = label.astype(int)"
   ]
  },
  {
   "cell_type": "code",
   "execution_count": 17,
   "metadata": {},
   "outputs": [
    {
     "data": {
      "text/plain": [
       "array([0, 0, 0, ..., 1, 1, 1])"
      ]
     },
     "execution_count": 17,
     "metadata": {},
     "output_type": "execute_result"
    }
   ],
   "source": [
    "label"
   ]
  },
  {
   "cell_type": "code",
   "execution_count": 18,
   "metadata": {},
   "outputs": [],
   "source": [
    "\n",
    "X_train,X_test, y_train, y_test = train_test_split(feature,label,test_size=0.5, random_state=0)"
   ]
  },
  {
   "cell_type": "code",
   "execution_count": 19,
   "metadata": {},
   "outputs": [],
   "source": [
    "def cnn_gru_branch(input):\n",
    "    inputs = keras.Input(shape=(input[0],))\n",
    "    x = inputs\n",
    "#     inputs_global = keras.Input(shape=(21,))\n",
    "    x = Dense(50, activation=\"linear\", kernel_initializer=\"glorot_uniform\")(x)\n",
    "#     x = BatchNormalization()(x)\n",
    "#     x = Dense(128, activation=\"linear\", kernel_initializer=\"glorot_uniform\")(combine_global)\n",
    "    x = Dense(50, activation=\"linear\", kernel_initializer=\"glorot_uniform\")(x)\n",
    "#     x = BatchNormalization()(x)\n",
    "#     x = Dropout(0.5)(x)\n",
    "    x = Dense(50, activation=\"linear\", kernel_initializer=\"glorot_uniform\")(x)\n",
    "#     x = BatchNormalization()(x)\n",
    "#     x = Dropout(0.3)(x)\n",
    "    outputs = Dense(input[1], activation=\"sigmoid\", kernel_initializer=\"glorot_uniform\")(x)\n",
    "    \n",
    "#     model = keras.Model([inputs, inputs_global], outputs)\n",
    "    model = keras.Model([inputs], outputs)\n",
    "    return model"
   ]
  },
  {
   "cell_type": "code",
   "execution_count": 20,
   "metadata": {},
   "outputs": [],
   "source": [
    "model = cnn_gru_branch([6,1])"
   ]
  },
  {
   "cell_type": "code",
   "execution_count": 21,
   "metadata": {},
   "outputs": [
    {
     "name": "stdout",
     "output_type": "stream",
     "text": [
      "Model: \"model_1\"\n",
      "_________________________________________________________________\n",
      "Layer (type)                 Output Shape              Param #   \n",
      "=================================================================\n",
      "input_1 (InputLayer)         (None, 6)                 0         \n",
      "_________________________________________________________________\n",
      "dense_1 (Dense)              (None, 50)                350       \n",
      "_________________________________________________________________\n",
      "dense_2 (Dense)              (None, 50)                2550      \n",
      "_________________________________________________________________\n",
      "dense_3 (Dense)              (None, 50)                2550      \n",
      "_________________________________________________________________\n",
      "dense_4 (Dense)              (None, 1)                 51        \n",
      "=================================================================\n",
      "Total params: 5,501\n",
      "Trainable params: 5,501\n",
      "Non-trainable params: 0\n",
      "_________________________________________________________________\n"
     ]
    }
   ],
   "source": [
    "from keras.optimizers import RMSprop, Adam\n",
    "model.compile(optimizer = Adam(lr=0.001),loss='binary_crossentropy', metrics=['acc'])\n",
    "model.summary()"
   ]
  },
  {
   "cell_type": "code",
   "execution_count": 22,
   "metadata": {},
   "outputs": [
    {
     "name": "stdout",
     "output_type": "stream",
     "text": [
      "Train on 4527591 samples, validate on 4527592 samples\n",
      "Epoch 1/15\n",
      "4527591/4527591 [==============================] - 3s 1us/step - loss: 54.6084 - acc: 0.6716 - val_loss: 74.8552 - val_acc: 0.4979\n",
      "Epoch 2/15\n",
      "4527591/4527591 [==============================] - 3s 1us/step - loss: 35.2088 - acc: 0.6663 - val_loss: 16.5083 - val_acc: 0.5410\n",
      "Epoch 3/15\n",
      "4527591/4527591 [==============================] - 3s 1us/step - loss: 13.3339 - acc: 0.6775 - val_loss: 1.6690 - val_acc: 0.6397\n",
      "Epoch 4/15\n",
      "4527591/4527591 [==============================] - 3s 1us/step - loss: 12.3147 - acc: 0.6813 - val_loss: 13.6332 - val_acc: 0.7479\n",
      "Epoch 5/15\n",
      "4527591/4527591 [==============================] - 3s 1us/step - loss: 16.6048 - acc: 0.6801 - val_loss: 8.1034 - val_acc: 0.5542\n",
      "Epoch 6/15\n",
      "4527591/4527591 [==============================] - 3s 1us/step - loss: 26.0063 - acc: 0.6703 - val_loss: 16.4672 - val_acc: 0.7480\n",
      "Epoch 7/15\n",
      "4527591/4527591 [==============================] - 3s 1us/step - loss: 15.5094 - acc: 0.6746 - val_loss: 14.1164 - val_acc: 0.7480\n",
      "Epoch 8/15\n",
      "4527591/4527591 [==============================] - 3s 1us/step - loss: 12.3401 - acc: 0.6844 - val_loss: 1.0546 - val_acc: 0.7480\n",
      "Epoch 9/15\n",
      "4527591/4527591 [==============================] - 3s 1us/step - loss: 7.4688 - acc: 0.6886 - val_loss: 1.4989 - val_acc: 0.6424\n",
      "Epoch 10/15\n",
      "4527591/4527591 [==============================] - 3s 1us/step - loss: 11.9021 - acc: 0.6830 - val_loss: 13.8975 - val_acc: 0.5495\n",
      "Epoch 11/15\n",
      "4527591/4527591 [==============================] - 3s 1us/step - loss: 13.0588 - acc: 0.6796 - val_loss: 21.5320 - val_acc: 0.5376\n",
      "Epoch 12/15\n",
      "4527591/4527591 [==============================] - 3s 1us/step - loss: 8.6084 - acc: 0.6895 - val_loss: 27.5391 - val_acc: 0.5219\n",
      "Epoch 13/15\n",
      "4527591/4527591 [==============================] - 3s 1us/step - loss: 15.1329 - acc: 0.6795 - val_loss: 14.0480 - val_acc: 0.7480\n",
      "Epoch 14/15\n",
      "4527591/4527591 [==============================] - 3s 1us/step - loss: 10.4948 - acc: 0.6835 - val_loss: 26.9411 - val_acc: 0.5270\n",
      "Epoch 15/15\n",
      "4527591/4527591 [==============================] - 3s 1us/step - loss: 6.4671 - acc: 0.6904 - val_loss: 2.8982 - val_acc: 0.7480\n"
     ]
    }
   ],
   "source": [
    "history = model.fit(X_train,\n",
    "                    y_train,\n",
    "                    batch_size=50000,\n",
    "                    epochs=15,\n",
    "                    validation_split=0.5,\n",
    "                    verbose=1,\n",
    "                    class_weight = 'auto',\n",
    "#                     class_weight = cw,\n",
    "                   )"
   ]
  },
  {
   "cell_type": "code",
   "execution_count": 23,
   "metadata": {},
   "outputs": [],
   "source": [
    "after_layer_model = keras.Model(inputs=model.input, outputs=model.get_layer('dense_3').output)"
   ]
  },
  {
   "cell_type": "code",
   "execution_count": 24,
   "metadata": {},
   "outputs": [],
   "source": [
    "gru_output = after_layer_model.predict([X_test])"
   ]
  },
  {
   "cell_type": "code",
   "execution_count": null,
   "metadata": {},
   "outputs": [],
   "source": []
  },
  {
   "cell_type": "code",
   "execution_count": null,
   "metadata": {},
   "outputs": [],
   "source": [
    "tsne=TSNE()\n",
    "tsne.fit_transform(gru_output)  #进行数据降维,降成两维\n",
    "#a=tsne.fit_transform(data_zs) #a是一个array,a相当于下面的tsne_embedding_\n",
    "tsne=pd.DataFrame(tsne.embedding_) #转换数据格式"
   ]
  },
  {
   "cell_type": "code",
   "execution_count": null,
   "metadata": {},
   "outputs": [],
   "source": []
  },
  {
   "cell_type": "code",
   "execution_count": null,
   "metadata": {},
   "outputs": [],
   "source": []
  },
  {
   "cell_type": "code",
   "execution_count": 25,
   "metadata": {},
   "outputs": [
    {
     "data": {
      "text/plain": [
       "0.747952305326132"
      ]
     },
     "execution_count": 25,
     "metadata": {},
     "output_type": "execute_result"
    }
   ],
   "source": [
    "len(y_train[y_train == 0])/ len(y_train)"
   ]
  },
  {
   "cell_type": "code",
   "execution_count": 24,
   "metadata": {},
   "outputs": [
    {
     "name": "stdout",
     "output_type": "stream",
     "text": [
      "[0 0 0 ... 0 0 0]\n"
     ]
    }
   ],
   "source": [
    "y_pred_sm = model.predict([X_test])\n",
    "y_pred = np.argmax(y_pred_sm, axis=1)\n",
    "print(y_pred)"
   ]
  },
  {
   "cell_type": "code",
   "execution_count": 26,
   "metadata": {},
   "outputs": [
    {
     "data": {
      "text/plain": [
       "array([], dtype=int64)"
      ]
     },
     "execution_count": 26,
     "metadata": {},
     "output_type": "execute_result"
    }
   ],
   "source": [
    "y_pred[y_pred == 1]"
   ]
  },
  {
   "cell_type": "code",
   "execution_count": null,
   "metadata": {},
   "outputs": [],
   "source": [
    "con_mat = confusion_matrix(y_test, y_pred)"
   ]
  },
  {
   "cell_type": "code",
   "execution_count": null,
   "metadata": {},
   "outputs": [],
   "source": [
    "con_mat"
   ]
  },
  {
   "cell_type": "code",
   "execution_count": null,
   "metadata": {},
   "outputs": [],
   "source": []
  },
  {
   "cell_type": "code",
   "execution_count": null,
   "metadata": {},
   "outputs": [],
   "source": []
  }
 ],
 "metadata": {
  "kernelspec": {
   "display_name": "Python_37",
   "language": "python",
   "name": "python_37"
  },
  "language_info": {
   "codemirror_mode": {
    "name": "ipython",
    "version": 3
   },
   "file_extension": ".py",
   "mimetype": "text/x-python",
   "name": "python",
   "nbconvert_exporter": "python",
   "pygments_lexer": "ipython3",
   "version": "3.7.6"
  }
 },
 "nbformat": 4,
 "nbformat_minor": 4
}
